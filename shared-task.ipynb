{
 "cells": [
  {
   "cell_type": "markdown",
   "metadata": {},
   "source": [
    "# QM Shared Task"
   ]
  },
  {
   "cell_type": "markdown",
   "metadata": {},
   "source": [
    "Idee: Alle Studierenden arbeiten mit dem gleichen Datenset und mit dem gleichen Ziel (= identisches Testset). \n",
    "\n",
    "## Datenset\n",
    "\n",
    "Datengrundlage müssen sicher NLP-Daten sein, momentan schwanke ich zwischen:\n",
    "\n",
    "1) https://www.kaggle.com/c/word2vec-nlp-tutorial/data\n",
    "\n",
    "Vorteile: einfach strukturiert / klare Aufgabe, gut ausgetestet\n",
    "\n",
    "Nachteile: Tutorials online verfügbar, könnte einige Leute zu Copy+Paste verleiten\n",
    "\n",
    "2) GDI Shared Task : http://ttg.uni-saarland.de/vardial2017/sharedtask2017.html\n",
    "\n",
    "Vorteile: neuer, sicher keine Tutorials, lokaler Bezug\n"
   ]
  },
  {
   "cell_type": "markdown",
   "metadata": {},
   "source": [
    "## Setting\n",
    "\n",
    "- wir bieten Instruktionen für eine sehr einfache Baseline, die man einfach schlagen kann\n",
    "- Trainingsdaten sind verfügbar, Testdaten vorerst nicht\n",
    "- klares Kriterium für die Rangliste, z.B. Accuracy auf dem Testset\n",
    "- Erwartung: Leute arbeiten mit Python+Scikit-learn\n"
   ]
  },
  {
   "cell_type": "code",
   "execution_count": null,
   "metadata": {
    "collapsed": true
   },
   "outputs": [],
   "source": []
  }
 ],
 "metadata": {
  "kernelspec": {
   "display_name": "Python [conda root]",
   "language": "python",
   "name": "conda-root-py"
  },
  "language_info": {
   "codemirror_mode": {
    "name": "ipython",
    "version": 2
   },
   "file_extension": ".py",
   "mimetype": "text/x-python",
   "name": "python",
   "nbconvert_exporter": "python",
   "pygments_lexer": "ipython2",
   "version": "2.7.13"
  }
 },
 "nbformat": 4,
 "nbformat_minor": 2
}
