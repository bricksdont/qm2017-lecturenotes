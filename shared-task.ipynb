{
 "cells": [
  {
   "cell_type": "markdown",
   "metadata": {},
   "source": [
    "# QM Shared Task"
   ]
  },
  {
   "cell_type": "markdown",
   "metadata": {},
   "source": [
    "Idee: Alle Studierenden arbeiten mit dem gleichen Datenset und mit dem gleichen Ziel (= identisches Testset).\n",
    "\n",
    "Vorstellung in der Vorlesung: Woche 7\n",
    "Abgabe / Präsentation: Woche 14 (Ausweichtermin: Prüfungstermin im Januar, den wir nicht brauchen)\n",
    "\n",
    "## Datenset\n",
    "\n",
    "Wir nehmen Daten vom GDI Shared Task : http://ttg.uni-saarland.de/vardial2017/sharedtask2017.html. Es geht dort um Klassifikation von Schweizerdeutschen Dialekten. Das ist eine recht neue Aufgabe und es ist auch unmöglich, eine Lösung aus dem Internet zu kopieren...\n",
    "\n",
    "Die Trainingsdaten sind schon in diesem Repository zum anschauen, `GDI-TRAIN.txt`\n",
    "\n",
    "\n",
    "(Alternative, falls jemand Einwände hat: https://www.kaggle.com/c/word2vec-nlp-tutorial/data)\n"
   ]
  },
  {
   "cell_type": "markdown",
   "metadata": {},
   "source": [
    "## Setting\n",
    "\n",
    "- wir bieten Instruktionen für eine sehr einfache Baseline, die man einfach schlagen kann\n",
    "- Trainingsdaten sind verfügbar, Testdaten vorerst nicht\n",
    "- klares Kriterium für die Rangliste, z.B. Accuracy auf dem Testset\n",
    "- Erwartung: Leute arbeiten mit Python und benutzen Scikit-learn, Keras o.ä.\n",
    "- Teams: Gruppen von 2 Leuten ideal, niemand sollte alleine sein"
   ]
  },
  {
   "cell_type": "code",
   "execution_count": null,
   "metadata": {
    "collapsed": true
   },
   "outputs": [],
   "source": []
  }
 ],
 "metadata": {
  "kernelspec": {
   "display_name": "Python [conda root]",
   "language": "python",
   "name": "conda-root-py"
  },
  "language_info": {
   "codemirror_mode": {
    "name": "ipython",
    "version": 2
   },
   "file_extension": ".py",
   "mimetype": "text/x-python",
   "name": "python",
   "nbconvert_exporter": "python",
   "pygments_lexer": "ipython2",
   "version": "2.7.13"
  }
 },
 "nbformat": 4,
 "nbformat_minor": 2
}
