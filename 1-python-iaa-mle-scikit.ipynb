{
 "cells": [
  {
   "cell_type": "markdown",
   "metadata": {},
   "source": [
    "# Working with Python\n",
    "\n",
    "Experience with Python is a requirement for this course. Virtually all examples are written in Python and you will probably suffer if you've never used it. Learn the ropes first (or again), for instance by going through Justin Johnson's [CS231n tutorial on Python and Numpy](http://cs231n.github.io/python-numpy-tutorial/)."
   ]
  },
  {
   "cell_type": "markdown",
   "metadata": {},
   "source": [
    "### Virtual environments\n",
    "\n",
    "Always work in Python virtual environments. They do not interfere with your system-wide packages and settings and let you have different packages and versions of them for different projects. Also, this works well on machines where you do not have sudo rights, for instance on our servers.\n",
    "\n",
    "The recommended tool for creating virtual environments is `virtualenv`, a good introduction to `pip` (Python's package manager) and `virtualenv` is [A non-magical introduction to Pip and Virtualenv for Python beginners](https://www.dabapps.com/blog/introduction-to-pip-and-virtualenv-python/)."
   ]
  },
  {
   "cell_type": "code",
   "execution_count": null,
   "metadata": {
    "collapsed": true
   },
   "outputs": [],
   "source": []
  }
 ],
 "metadata": {
  "kernelspec": {
   "display_name": "Python [conda root]",
   "language": "python",
   "name": "conda-root-py"
  },
  "language_info": {
   "codemirror_mode": {
    "name": "ipython",
    "version": 2
   },
   "file_extension": ".py",
   "mimetype": "text/x-python",
   "name": "python",
   "nbconvert_exporter": "python",
   "pygments_lexer": "ipython2",
   "version": "2.7.13"
  }
 },
 "nbformat": 4,
 "nbformat_minor": 2
}
